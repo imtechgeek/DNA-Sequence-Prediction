{
 "cells": [
  {
   "cell_type": "code",
   "execution_count": 1,
   "metadata": {},
   "outputs": [],
   "source": [
    "import matplotlib.pyplot as plt\n",
    "import numpy as np\n",
    "import torch\n",
    "import torch.nn as nn\n",
    "\n",
    "from tqdm.notebook import tqdm"
   ]
  },
  {
   "cell_type": "code",
   "execution_count": 2,
   "metadata": {},
   "outputs": [],
   "source": [
    "with open('rnn-challenge-data.npz', 'rb') as f:\n",
    "    X = np.load(f)\n",
    "    data_x = X['data_x']\n",
    "    data_y = X['data_y']\n",
    "    val_x = X['val_x']\n",
    "    val_y = X['val_y']\n",
    "    test_x = X['test_x']\n",
    "    test_y = X['test_y']\n"
   ]
  },
  {
   "cell_type": "code",
   "execution_count": 3,
   "metadata": {},
   "outputs": [
    {
     "name": "stdout",
     "output_type": "stream",
     "text": [
      "nucleotides: {'C', 'G', 'T', 'A'}\n"
     ]
    }
   ],
   "source": [
    "print(\"nucleotides: {}\".format(set(data_x[0])))"
   ]
  },
  {
   "cell_type": "code",
   "execution_count": 8,
   "metadata": {},
   "outputs": [],
   "source": [
    "def one_hot_nucleotides(inp):\n",
    "    for x in inp:\n",
    "        if x == 'C':\n",
    "            yield np.array([1, 0, 0, 0], dtype=np.float32)\n",
    "        if x == 'G':\n",
    "            yield np.array([0, 1, 0, 0], dtype=np.float32)\n",
    "        if x == 'T':\n",
    "            yield np.array([0, 0, 1, 0], dtype=np.float32)\n",
    "        if x == 'A':\n",
    "            yield np.array([0, 0, 0, 1], dtype=np.float32)"
   ]
  },
  {
   "cell_type": "code",
   "execution_count": 9,
   "metadata": {},
   "outputs": [],
   "source": [
    "data_x_onehot = np.array([\n",
    "    np.array([x for x in one_hot_nucleotides(data_x[i])]) for i in range(len(data_x))\n",
    "])\n",
    "val_x_onehot = np.array([\n",
    "    np.array([x for x in one_hot_nucleotides(val_x[i])]) for i in range(len(val_x))\n",
    "])\n",
    "test_x_onehot = np.array([\n",
    "    np.array([x for x in one_hot_nucleotides(test_x[i])]) for i in range(len(test_x))\n",
    "])"
   ]
  },
  {
   "cell_type": "code",
   "execution_count": 6,
   "metadata": {},
   "outputs": [],
   "source": [
    "device = torch.device('cuda')"
   ]
  },
  {
   "cell_type": "code",
   "execution_count": 7,
   "metadata": {},
   "outputs": [],
   "source": [
    "batch_size = 10\n",
    "n_input = 4\n",
    "n_classes = 5"
   ]
  },
  {
   "cell_type": "code",
   "execution_count": 8,
   "metadata": {},
   "outputs": [],
   "source": [
    "class RNN(nn.Module):\n",
    "\n",
    "    def __init__(self, input_size, n_classes):\n",
    "        super().__init__()\n",
    "        self.cell1 = nn.RNNCell(input_size, 50)\n",
    "        self.cell2 = nn.RNNCell(50, 40)\n",
    "        self.cell3 = nn.RNNCell(40, 30)\n",
    "        self.to_class = nn.Sequential(\n",
    "            nn.Linear(30, 150),\n",
    "            nn.LeakyReLU(),\n",
    "            nn.Linear(150, 75),\n",
    "            nn.LeakyReLU(),\n",
    "            nn.Linear(75, n_classes),\n",
    "            nn.LogSoftmax(dim=1)\n",
    "        )\n",
    "\n",
    "    def forward(self, inputs, hidden1=None, hidden2=None, hidden3=None):\n",
    "        r\"\"\" Expects inputs of shape [batch size, sequence length, input] \"\"\"\n",
    "        out = None\n",
    "        for x in torch.unbind(inputs, dim=1):\n",
    "            hidden1 = self.cell1(x, hidden1)\n",
    "            hidden2 = self.cell2(hidden1, hidden2)\n",
    "            hidden3 = self.cell3(hidden2, hidden3)\n",
    "            out = hidden3\n",
    "        # out is now the latest hidden state\n",
    "        pred = self.to_class(out)\n",
    "        return pred"
   ]
  },
  {
   "cell_type": "code",
   "execution_count": 9,
   "metadata": {},
   "outputs": [],
   "source": [
    "rnn = RNN(n_input, n_classes).to(device)"
   ]
  },
  {
   "cell_type": "code",
   "execution_count": 10,
   "metadata": {},
   "outputs": [],
   "source": [
    "loss = nn.NLLLoss().to(device)"
   ]
  },
  {
   "cell_type": "code",
   "execution_count": 11,
   "metadata": {},
   "outputs": [],
   "source": [
    "n_epochs = 150"
   ]
  },
  {
   "cell_type": "code",
   "execution_count": 12,
   "metadata": {},
   "outputs": [],
   "source": [
    "n_batches = len(data_x_onehot) // batch_size"
   ]
  },
  {
   "cell_type": "code",
   "execution_count": 13,
   "metadata": {},
   "outputs": [],
   "source": [
    "opt = torch.optim.Adam(rnn.parameters(), lr=1e-4)"
   ]
  },
  {
   "cell_type": "code",
   "execution_count": 14,
   "metadata": {},
   "outputs": [],
   "source": [
    "losses = []\n",
    "losses_val = []\n",
    "accuracies_val = []"
   ]
  },
  {
   "cell_type": "code",
   "execution_count": 15,
   "metadata": {},
   "outputs": [],
   "source": [
    "ix = np.arange(len(data_x_onehot))"
   ]
  },
  {
   "cell_type": "code",
   "execution_count": 16,
   "metadata": {},
   "outputs": [
    {
     "data": {
      "application/vnd.jupyter.widget-view+json": {
       "model_id": "cf6f625d4d594742ac7f01a0606ff5b3",
       "version_major": 2,
       "version_minor": 0
      },
      "text/plain": [
       "HBox(children=(FloatProgress(value=0.0, max=150.0), HTML(value='')))"
      ]
     },
     "metadata": {},
     "output_type": "display_data"
    },
    {
     "name": "stdout",
     "output_type": "stream",
     "text": [
      "Epoch 1/150: Loss 1.611 Val loss 1.609 Accuracy 18%\n",
      "Epoch 2/150: Loss 1.607 Val loss 1.606 Accuracy 17%\n",
      "Epoch 3/150: Loss 1.602 Val loss 1.601 Accuracy 19%\n",
      "Epoch 4/150: Loss 1.595 Val loss 1.591 Accuracy 32%\n",
      "Epoch 5/150: Loss 1.579 Val loss 1.568 Accuracy 41%\n",
      "Epoch 6/150: Loss 1.535 Val loss 1.501 Accuracy 46%\n",
      "Epoch 7/150: Loss 1.423 Val loss 1.373 Accuracy 42%\n",
      "Epoch 8/150: Loss 1.285 Val loss 1.229 Accuracy 52%\n",
      "Epoch 9/150: Loss 1.109 Val loss 0.994 Accuracy 57%\n",
      "Epoch 10/150: Loss 0.933 Val loss 0.850 Accuracy 67%\n",
      "Epoch 11/150: Loss 0.810 Val loss 0.748 Accuracy 72%\n",
      "Epoch 12/150: Loss 0.720 Val loss 0.684 Accuracy 77%\n",
      "Epoch 13/150: Loss 0.667 Val loss 0.653 Accuracy 69%\n",
      "Epoch 14/150: Loss 0.624 Val loss 0.607 Accuracy 73%\n",
      "Epoch 15/150: Loss 0.611 Val loss 0.578 Accuracy 82%\n",
      "Epoch 16/150: Loss 0.580 Val loss 0.606 Accuracy 72%\n",
      "Epoch 17/150: Loss 0.618 Val loss 0.553 Accuracy 73%\n",
      "Epoch 18/150: Loss 0.547 Val loss 0.505 Accuracy 82%\n",
      "Epoch 19/150: Loss 0.498 Val loss 0.481 Accuracy 82%\n",
      "Epoch 20/150: Loss 0.466 Val loss 0.456 Accuracy 85%\n",
      "Epoch 21/150: Loss 0.465 Val loss 0.473 Accuracy 79%\n",
      "Epoch 22/150: Loss 0.454 Val loss 0.436 Accuracy 82%\n",
      "Epoch 23/150: Loss 0.404 Val loss 0.405 Accuracy 86%\n",
      "Epoch 24/150: Loss 0.407 Val loss 0.356 Accuracy 84%\n",
      "Epoch 25/150: Loss 0.398 Val loss 0.437 Accuracy 82%\n",
      "Epoch 26/150: Loss 0.349 Val loss 0.338 Accuracy 88%\n",
      "Epoch 27/150: Loss 0.352 Val loss 0.312 Accuracy 87%\n",
      "Epoch 28/150: Loss 0.345 Val loss 0.276 Accuracy 94%\n",
      "Epoch 29/150: Loss 0.310 Val loss 0.288 Accuracy 88%\n",
      "Epoch 30/150: Loss 0.375 Val loss 0.280 Accuracy 92%\n",
      "Epoch 31/150: Loss 0.303 Val loss 0.263 Accuracy 91%\n",
      "Epoch 32/150: Loss 0.293 Val loss 0.226 Accuracy 94%\n",
      "Epoch 33/150: Loss 0.255 Val loss 0.176 Accuracy 96%\n",
      "Epoch 34/150: Loss 0.240 Val loss 0.248 Accuracy 89%\n",
      "Epoch 35/150: Loss 0.235 Val loss 0.224 Accuracy 90%\n",
      "Epoch 36/150: Loss 0.235 Val loss 0.151 Accuracy 98%\n",
      "Epoch 37/150: Loss 0.205 Val loss 0.144 Accuracy 98%\n",
      "Epoch 38/150: Loss 0.207 Val loss 0.128 Accuracy 99%\n",
      "Epoch 39/150: Loss 0.192 Val loss 0.139 Accuracy 97%\n",
      "Epoch 40/150: Loss 0.192 Val loss 0.139 Accuracy 97%\n",
      "Epoch 41/150: Loss 0.229 Val loss 0.127 Accuracy 98%\n",
      "Epoch 42/150: Loss 0.188 Val loss 0.187 Accuracy 92%\n",
      "Epoch 43/150: Loss 0.354 Val loss 0.154 Accuracy 95%\n",
      "Epoch 44/150: Loss 0.194 Val loss 0.145 Accuracy 94%\n",
      "Epoch 45/150: Loss 0.173 Val loss 0.106 Accuracy 98%\n",
      "Epoch 46/150: Loss 0.159 Val loss 0.095 Accuracy 100%\n",
      "Epoch 47/150: Loss 0.191 Val loss 0.094 Accuracy 100%\n",
      "Epoch 48/150: Loss 0.166 Val loss 0.118 Accuracy 96%\n",
      "Epoch 49/150: Loss 0.158 Val loss 0.084 Accuracy 100%\n",
      "Epoch 50/150: Loss 0.141 Val loss 0.115 Accuracy 94%\n",
      "Epoch 51/150: Loss 0.137 Val loss 0.100 Accuracy 98%\n",
      "Epoch 52/150: Loss 0.130 Val loss 0.067 Accuracy 99%\n",
      "Epoch 53/150: Loss 0.118 Val loss 0.077 Accuracy 99%\n",
      "Epoch 54/150: Loss 0.110 Val loss 0.073 Accuracy 99%\n",
      "Epoch 55/150: Loss 0.173 Val loss 0.144 Accuracy 92%\n",
      "Epoch 56/150: Loss 0.168 Val loss 0.058 Accuracy 100%\n",
      "Epoch 57/150: Loss 0.111 Val loss 0.076 Accuracy 98%\n",
      "Epoch 58/150: Loss 0.092 Val loss 0.112 Accuracy 95%\n",
      "Epoch 59/150: Loss 0.088 Val loss 0.060 Accuracy 99%\n",
      "\n"
     ]
    },
    {
     "ename": "KeyboardInterrupt",
     "evalue": "",
     "output_type": "error",
     "traceback": [
      "\u001b[0;31m---------------------------------------------------------------------------\u001b[0m",
      "\u001b[0;31mKeyboardInterrupt\u001b[0m                         Traceback (most recent call last)",
      "\u001b[0;32m<ipython-input-16-e8ac6f5150ef>\u001b[0m in \u001b[0;36m<module>\u001b[0;34m\u001b[0m\n\u001b[1;32m     14\u001b[0m         \u001b[0mprediction\u001b[0m \u001b[0;34m=\u001b[0m \u001b[0mrnn\u001b[0m\u001b[0;34m(\u001b[0m\u001b[0mx_batch\u001b[0m\u001b[0;34m)\u001b[0m\u001b[0;34m\u001b[0m\u001b[0;34m\u001b[0m\u001b[0m\n\u001b[1;32m     15\u001b[0m         \u001b[0mloss_value\u001b[0m \u001b[0;34m=\u001b[0m \u001b[0mloss\u001b[0m\u001b[0;34m(\u001b[0m\u001b[0mprediction\u001b[0m\u001b[0;34m,\u001b[0m \u001b[0my_batch\u001b[0m\u001b[0;34m)\u001b[0m\u001b[0;34m\u001b[0m\u001b[0;34m\u001b[0m\u001b[0m\n\u001b[0;32m---> 16\u001b[0;31m         \u001b[0mloss_value\u001b[0m\u001b[0;34m.\u001b[0m\u001b[0mbackward\u001b[0m\u001b[0;34m(\u001b[0m\u001b[0;34m)\u001b[0m\u001b[0;34m\u001b[0m\u001b[0;34m\u001b[0m\u001b[0m\n\u001b[0m\u001b[1;32m     17\u001b[0m \u001b[0;34m\u001b[0m\u001b[0m\n\u001b[1;32m     18\u001b[0m         \u001b[0mopt\u001b[0m\u001b[0;34m.\u001b[0m\u001b[0mstep\u001b[0m\u001b[0;34m(\u001b[0m\u001b[0;34m)\u001b[0m\u001b[0;34m\u001b[0m\u001b[0;34m\u001b[0m\u001b[0m\n",
      "\u001b[0;32m~/miniconda3/envs/torch/lib/python3.8/site-packages/torch/tensor.py\u001b[0m in \u001b[0;36mbackward\u001b[0;34m(self, gradient, retain_graph, create_graph)\u001b[0m\n\u001b[1;32m    196\u001b[0m                 \u001b[0mproducts\u001b[0m\u001b[0;34m.\u001b[0m \u001b[0mDefaults\u001b[0m \u001b[0mto\u001b[0m\u001b[0;31m \u001b[0m\u001b[0;31m`\u001b[0m\u001b[0;31m`\u001b[0m\u001b[0;32mFalse\u001b[0m\u001b[0;31m`\u001b[0m\u001b[0;31m`\u001b[0m\u001b[0;34m.\u001b[0m\u001b[0;34m\u001b[0m\u001b[0;34m\u001b[0m\u001b[0m\n\u001b[1;32m    197\u001b[0m         \"\"\"\n\u001b[0;32m--> 198\u001b[0;31m         \u001b[0mtorch\u001b[0m\u001b[0;34m.\u001b[0m\u001b[0mautograd\u001b[0m\u001b[0;34m.\u001b[0m\u001b[0mbackward\u001b[0m\u001b[0;34m(\u001b[0m\u001b[0mself\u001b[0m\u001b[0;34m,\u001b[0m \u001b[0mgradient\u001b[0m\u001b[0;34m,\u001b[0m \u001b[0mretain_graph\u001b[0m\u001b[0;34m,\u001b[0m \u001b[0mcreate_graph\u001b[0m\u001b[0;34m)\u001b[0m\u001b[0;34m\u001b[0m\u001b[0;34m\u001b[0m\u001b[0m\n\u001b[0m\u001b[1;32m    199\u001b[0m \u001b[0;34m\u001b[0m\u001b[0m\n\u001b[1;32m    200\u001b[0m     \u001b[0;32mdef\u001b[0m \u001b[0mregister_hook\u001b[0m\u001b[0;34m(\u001b[0m\u001b[0mself\u001b[0m\u001b[0;34m,\u001b[0m \u001b[0mhook\u001b[0m\u001b[0;34m)\u001b[0m\u001b[0;34m:\u001b[0m\u001b[0;34m\u001b[0m\u001b[0;34m\u001b[0m\u001b[0m\n",
      "\u001b[0;32m~/miniconda3/envs/torch/lib/python3.8/site-packages/torch/autograd/__init__.py\u001b[0m in \u001b[0;36mbackward\u001b[0;34m(tensors, grad_tensors, retain_graph, create_graph, grad_variables)\u001b[0m\n\u001b[1;32m     96\u001b[0m         \u001b[0mretain_graph\u001b[0m \u001b[0;34m=\u001b[0m \u001b[0mcreate_graph\u001b[0m\u001b[0;34m\u001b[0m\u001b[0;34m\u001b[0m\u001b[0m\n\u001b[1;32m     97\u001b[0m \u001b[0;34m\u001b[0m\u001b[0m\n\u001b[0;32m---> 98\u001b[0;31m     Variable._execution_engine.run_backward(\n\u001b[0m\u001b[1;32m     99\u001b[0m         \u001b[0mtensors\u001b[0m\u001b[0;34m,\u001b[0m \u001b[0mgrad_tensors\u001b[0m\u001b[0;34m,\u001b[0m \u001b[0mretain_graph\u001b[0m\u001b[0;34m,\u001b[0m \u001b[0mcreate_graph\u001b[0m\u001b[0;34m,\u001b[0m\u001b[0;34m\u001b[0m\u001b[0;34m\u001b[0m\u001b[0m\n\u001b[1;32m    100\u001b[0m         allow_unreachable=True)  # allow_unreachable flag\n",
      "\u001b[0;31mKeyboardInterrupt\u001b[0m: "
     ]
    }
   ],
   "source": [
    "for epoch in tqdm(range(n_epochs)):\n",
    "    np.random.shuffle(ix)\n",
    "    \n",
    "    rnn.train()\n",
    "    \n",
    "    batch_losses = []\n",
    "    for batch in range(n_batches):\n",
    "        opt.zero_grad()\n",
    "        \n",
    "        indices = ix[batch*batch_size:(batch+1)*batch_size]\n",
    "        x_batch = torch.from_numpy(data_x_onehot[indices]).to(device)\n",
    "        y_batch = torch.from_numpy(data_y[indices]).to(device)\n",
    "        \n",
    "        prediction = rnn(x_batch)\n",
    "        loss_value = loss(prediction, y_batch)\n",
    "        loss_value.backward()\n",
    "        \n",
    "        opt.step()\n",
    "        \n",
    "        batch_losses.append(loss_value.detach().cpu().numpy())\n",
    "    losses.append(np.mean(batch_losses))\n",
    "    \n",
    "    rnn.eval()\n",
    "    with torch.no_grad(): \n",
    "        prediction_val = rnn(torch.from_numpy(val_x_onehot).to(device))\n",
    "        loss_val = loss(prediction_val, torch.from_numpy(val_y).to(device))\n",
    "        losses_val.append(loss_val.cpu().numpy())\n",
    "        prediction_val_labels = np.argmax(prediction_val.cpu().numpy(), axis=1)\n",
    "        accuracy_val = (1. - np.count_nonzero(np.array(prediction_val_labels) - val_y) / len(prediction_val_labels))*100.\n",
    "        accuracies_val.append(accuracy_val)\n",
    "        \n",
    "    print(f\"Epoch {epoch+1}/{n_epochs}: Loss {losses[-1]:.3f} Val loss {losses_val[-1]:.3f}\" \n",
    "          f\" Accuracy {accuracies_val[-1]:.0f}%\")"
   ]
  },
  {
   "cell_type": "code",
   "execution_count": 23,
   "metadata": {},
   "outputs": [
    {
     "data": {
      "image/png": "[encoded data removed]",
      "text/plain": [
       "<Figure size 432x288 with 1 Axes>"
      ]
     },
     "metadata": {
      "needs_background": "light"
     },
     "output_type": "display_data"
    }
   ],
   "source": [
    "plt.semilogy(losses, label='training loss')\n",
    "plt.semilogy(losses_val, label='validation loss')\n",
    "plt.legend();"
   ]
  },
  {
   "cell_type": "code",
   "execution_count": 24,
   "metadata": {},
   "outputs": [
    {
     "name": "stdout",
     "output_type": "stream",
     "text": [
      "Test accuracy: 97.2%\n"
     ]
    }
   ],
   "source": [
    "with torch.no_grad():\n",
    "    prediction_test = rnn(torch.from_numpy(test_x_onehot).to(device))\n",
    "    pred = np.argmax(prediction_test.cpu().numpy(), axis=1)\n",
    "    accuracy = (1. - np.count_nonzero(np.array(pred) - test_y) / len(pred))*100.\n",
    "print(f\"Test accuracy: {accuracy}%\")"
   ]
  }
 ],
 "metadata": {
  "kernelspec": {
   "display_name": "Python 3",
   "language": "python",
   "name": "python3"
  },
  "language_info": {
   "codemirror_mode": {
    "name": "ipython",
    "version": 3
   },
   "file_extension": ".py",
   "mimetype": "text/x-python",
   "name": "python",
   "nbconvert_exporter": "python",
   "pygments_lexer": "ipython3",
   "version": "3.8.3"
  }
 },
 "nbformat": 4,
 "nbformat_minor": 4
}
